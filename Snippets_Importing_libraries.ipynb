{
  "cells": [
    {
      "cell_type": "markdown",
      "metadata": {
        "id": "view-in-github",
        "colab_type": "text"
      },
      "source": [
        "<a href=\"https://colab.research.google.com/github/mustafaVaroll/DjangoProject/blob/master/Snippets_Importing_libraries.ipynb\" target=\"_parent\"><img src=\"https://colab.research.google.com/assets/colab-badge.svg\" alt=\"Open In Colab\"/></a>"
      ]
    },
    {
      "cell_type": "code",
      "execution_count": 1,
      "metadata": {
        "colab": {
          "base_uri": "https://localhost:8080/"
        },
        "id": "GQ18Kd5F3uKe",
        "outputId": "fd00f4d7-8814-4f99-e7ce-398ce47df56f"
      },
      "outputs": [
        {
          "output_type": "stream",
          "name": "stdout",
          "text": [
            "Collecting pulp\n",
            "  Downloading PuLP-2.6.0-py3-none-any.whl (14.2 MB)\n",
            "\u001b[K     |████████████████████████████████| 14.2 MB 16.0 MB/s \n",
            "\u001b[?25hInstalling collected packages: pulp\n",
            "Successfully installed pulp-2.6.0\n"
          ]
        }
      ],
      "source": [
        "!pip install pulp"
      ]
    },
    {
      "cell_type": "code",
      "source": [
        "\"\"\"\n",
        "A çikolatası 1 birim süte 3 biirm hindistan cevizi iiçeriri\n",
        "B çikolatası 1 biirm süte  3 biirm hindistan cevizi iiçeriri\n",
        "Şirket 5 birim süt 12 biirm hindisyan cevizi \n",
        "Bir A dan 6 lira\n",
        "Bir B den 5 lira \n",
        "Ne  kadar a ve b satılırsa şirket maksimum kar elde eder\n",
        "\n",
        "6x+5y\n",
        "\n",
        "x + y ≤ 5\n",
        "3x + 2y ≤ 12\n",
        "x ≥ 0\n",
        "y ≥ 0\n",
        "\n",
        "\n",
        "\"\"\""
      ],
      "metadata": {
        "colab": {
          "base_uri": "https://localhost:8080/",
          "height": 53
        },
        "id": "czRVLpTP_cx6",
        "outputId": "37097ffe-237c-4571-938e-e2bfa8a1ce58"
      },
      "execution_count": 6,
      "outputs": [
        {
          "output_type": "execute_result",
          "data": {
            "application/vnd.google.colaboratory.intrinsic+json": {
              "type": "string"
            },
            "text/plain": [
              "'\\nA çikolatası 1 birim süte 3 biirm hindistan cevizi iiçeriri\\nB çikolatası 1 biirm süte  3 biirm hindistan cevizi iiçeriri\\nŞirket 5 birim süt 12 biirm hindisyan cevizi \\nBir A dan 6 lira\\nBir B den 5 lira \\nNe  kadar a ve b satılırsa şirket maksimum kar elde eder\\n\\n6x+5y\\n\\nx + y ≤ 5\\n3x + 2y ≤ 12\\nx ≥ 0\\ny ≥ 0\\n\\n\\n'"
            ]
          },
          "metadata": {},
          "execution_count": 6
        }
      ]
    },
    {
      "cell_type": "markdown",
      "source": [
        "# Yeni Bölüm"
      ],
      "metadata": {
        "id": "rSPcC0Y8CCZ8"
      }
    },
    {
      "cell_type": "code",
      "execution_count": 3,
      "metadata": {
        "colab": {
          "base_uri": "https://localhost:8080/"
        },
        "id": "__3eqm3q3sr-",
        "outputId": "c79db78f-5dcd-45be-aafe-3cabdc1c40a3"
      },
      "outputs": [
        {
          "output_type": "stream",
          "name": "stdout",
          "text": [
            "MyProblem:\n",
            "MAXIMIZE\n",
            "6*x + 5*y + 0\n",
            "SUBJECT TO\n",
            "_C1: 3 x + 2 y <= 12\n",
            "\n",
            "_C2: x + y <= 5\n",
            "\n",
            "VARIABLES\n",
            "x Continuous\n",
            "y Continuous\n",
            "\n"
          ]
        }
      ],
      "source": [
        "\n",
        "import pulp as p\n",
        "  \n",
        "\n",
        "Lp_prob = p.LpProblem('MyProblem', p.LpMaximize) \n",
        "  \n",
        "\n",
        "x = p.LpVariable(\"x\", lowBound = 0)   \n",
        "y = p.LpVariable(\"y\", lowBound = 0)  \n",
        "  \n",
        "\n",
        "Lp_prob += 6 * x + 5 * y   \n",
        "  \n",
        "\n",
        "Lp_prob += 3* x + 2 * y <= 12\n",
        "Lp_prob += x + y <= 5\n",
        "  \n",
        "\n",
        "print(Lp_prob)\n",
        " "
      ]
    },
    {
      "cell_type": "code",
      "execution_count": 4,
      "metadata": {
        "colab": {
          "base_uri": "https://localhost:8080/"
        },
        "id": "d_j7nNbKRmhx",
        "outputId": "1c316288-40fd-43d4-99b6-9ad33ab15e06"
      },
      "outputs": [
        {
          "output_type": "stream",
          "name": "stdout",
          "text": [
            "Optimal\n"
          ]
        }
      ],
      "source": [
        "status = Lp_prob.solve()  \n",
        "print(p.LpStatus[status])   \n"
      ]
    },
    {
      "cell_type": "code",
      "execution_count": 5,
      "metadata": {
        "colab": {
          "base_uri": "https://localhost:8080/"
        },
        "id": "w9llCG2wSRDx",
        "outputId": "2fff39d1-6ccd-4373-8809-4935ee9c7586"
      },
      "outputs": [
        {
          "output_type": "stream",
          "name": "stdout",
          "text": [
            "2.0 3.0 27.0\n"
          ]
        }
      ],
      "source": [
        "\n",
        "print(p.value(x), p.value(y), p.value(Lp_prob.objective))\n",
        "\n"
      ]
    }
  ],
  "metadata": {
    "colab": {
      "collapsed_sections": [],
      "name": "Snippets: Importing libraries",
      "provenance": [],
      "include_colab_link": true
    },
    "kernelspec": {
      "display_name": "Python 3",
      "name": "python3"
    }
  },
  "nbformat": 4,
  "nbformat_minor": 0
}